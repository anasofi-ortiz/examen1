{
 "cells": [
  {
   "cell_type": "code",
   "execution_count": 14,
   "metadata": {},
   "outputs": [
    {
     "name": "stdout",
     "output_type": "stream",
     "text": [
      "Optimization terminated successfully.\n",
      "         Current function value: 1414.000000 \n",
      "         Iterations: 10\n",
      "[24. 26.  0. 27.  0.  0. 28.]\n",
      "suma:  105.0\n"
     ]
    }
   ],
   "source": [
    "import scipy.optimize as opt\n",
    "import numpy as np\n",
    "\n",
    "c=np.array([14,13,15,16,19,18,11])\n",
    "A=np.array([[1,1,1,1,1,1,1],[-1,-1,-1,-1,-1,0,0],[0,-1,-1,-1,-1,-1,-1],[-1,0,0,-1,-1,-1,-1],[-1,-1,0,0,-1,-1,-1],[-1,-1,-1,0,0,-1,-1],[-1,-1,-1,-1,0,0,-1]])\n",
    "B=np.array([106,-77,-81,-79,-78,-76,-71])\n",
    "\n",
    "res=opt.linprog(c, A_ub=A, b_ub=B, options={'disp':True})\n",
    "print(res.x)\n",
    "print('suma: ', res.x[0]+res.x[1]+res.x[2]+res.x[3]+res.x[4]+res.x[5]+res.x[6])"
   ]
  },
  {
   "cell_type": "code",
   "execution_count": null,
   "metadata": {},
   "outputs": [],
   "source": []
  },
  {
   "cell_type": "code",
   "execution_count": null,
   "metadata": {},
   "outputs": [],
   "source": []
  },
  {
   "cell_type": "code",
   "execution_count": null,
   "metadata": {},
   "outputs": [],
   "source": []
  },
  {
   "cell_type": "code",
   "execution_count": null,
   "metadata": {},
   "outputs": [],
   "source": []
  },
  {
   "cell_type": "code",
   "execution_count": null,
   "metadata": {},
   "outputs": [],
   "source": []
  }
 ],
 "metadata": {
  "kernelspec": {
   "display_name": "Python 3",
   "language": "python",
   "name": "python3"
  },
  "language_info": {
   "codemirror_mode": {
    "name": "ipython",
    "version": 3
   },
   "file_extension": ".py",
   "mimetype": "text/x-python",
   "name": "python",
   "nbconvert_exporter": "python",
   "pygments_lexer": "ipython3",
   "version": "3.7.3"
  }
 },
 "nbformat": 4,
 "nbformat_minor": 2
}
