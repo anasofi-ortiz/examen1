{
 "cells": [
  {
   "cell_type": "code",
   "execution_count": 1,
   "metadata": {},
   "outputs": [
    {
     "data": {
      "text/plain": [
       "<Figure size 800x600 with 1 Axes>"
      ]
     },
     "metadata": {},
     "output_type": "display_data"
    },
    {
     "name": "stderr",
     "output_type": "stream",
     "text": [
      "D:\\ANACONDA\\lib\\site-packages\\ipykernel_launcher.py:41: RuntimeWarning: divide by zero encountered in log\n",
      "D:\\ANACONDA\\lib\\site-packages\\ipykernel_launcher.py:41: RuntimeWarning: invalid value encountered in multiply\n",
      "D:\\ANACONDA\\lib\\site-packages\\ipykernel_launcher.py:41: RuntimeWarning: divide by zero encountered in log\n",
      "D:\\ANACONDA\\lib\\site-packages\\ipykernel_launcher.py:41: RuntimeWarning: invalid value encountered in multiply\n",
      "D:\\ANACONDA\\lib\\site-packages\\ipykernel_launcher.py:41: RuntimeWarning: divide by zero encountered in log\n",
      "D:\\ANACONDA\\lib\\site-packages\\ipykernel_launcher.py:41: RuntimeWarning: invalid value encountered in multiply\n"
     ]
    },
    {
     "data": {
      "text/plain": [
       "<Figure size 1000x1000 with 1 Axes>"
      ]
     },
     "metadata": {},
     "output_type": "display_data"
    }
   ],
   "source": [
    "# ejercicio 4 \n",
    "\n",
    "# import numpy as np\n",
    "# import matplotlib.pyplot as plt\n",
    "# %matplotlib inline\n",
    "# import pandas as pd\n",
    "\n",
    "# x1 = 1.5 + 0.5*np.random.random((100,1))\n",
    "# x2 = 45 + 70*np.random.random((100,1))\n",
    "# X = np.concatenate((x1, x2), axis = 1)\n",
    "# Y = (X[:, 1]/X[:, 0]**2 > 25*np.ones((100,)))*1\n",
    "\n",
    "\n",
    "# plt.figure(figsize = (8,6))\n",
    "# plt.scatter(X[:,0], X[:,1], c=Y)\n",
    "# plt.show()\n",
    "\n",
    "import numpy as np\n",
    "import matplotlib.pyplot as plt\n",
    "import pandas as pd\n",
    "import scipy.optimize as opt\n",
    "\n",
    "def fun_log(z):\n",
    "    return 1/(1+np.exp(-z))\n",
    "\n",
    "def reg_log(B, X):\n",
    "    Xa = np.append(np.ones((X.shape[0],1)), X, axis=1)\n",
    "    return fun_log(Xa.dot(B))\n",
    "  \n",
    "x1 = 1.5 + 0.5*np.random.random((100,1))\n",
    "x2 = 45 + 70*np.random.random((100,1))\n",
    "X = np.concatenate((x1, x2), axis = 1)\n",
    "Y = (X[:, 1]/X[:, 0]**2 > 25*np.ones((100,)))*1\n",
    "\n",
    "plt.figure(figsize = (8,6))\n",
    "plt.scatter(X[:,0], X[:,1], c=Y)\n",
    "plt.show()\n",
    "\n",
    "def fun_obj(B, X, Y):\n",
    "    Yhat = 0.99999*reg_log(B, X)\n",
    "    return np.mean(-Y*np.log(Yhat)-(1-Y)*np.log(1-Yhat))\n",
    "\n",
    "B0 = np.zeros((3,))\n",
    "\n",
    "res_clas = opt.minimize(fun_obj, B0, args=(X,Y))\n",
    "B = res_clas.x\n",
    "\n",
    "x = np.arange(1.5, 2.5, 0.05)\n",
    "y = np.arange(40, 120, 0.05)\n",
    "Xm, Ym = np.meshgrid(x, y)\n",
    "m,n = np.shape(Xm)\n",
    "Xmr = np.reshape(Xm,(m*n,1))\n",
    "Ymr = np.reshape(Ym,(m*n,1))\n",
    "\n",
    "Xproof = np.append(Xmr,Ymr,axis=1)\n",
    "\n",
    "Yg = reg_log(B, Xproof)\n",
    "Z = np.reshape(Yg, (m,n))\n",
    "Z = np.round(Z)\n",
    "\n",
    "plt.figure(figsize=(10,10))\n",
    "plt.contour(Xm, Ym, Z)\n",
    "plt.scatter(X[:, 0],X[:, 1], c=Y, edgecolors='w')\n",
    "plt.show()"
   ]
  },
  {
   "cell_type": "code",
   "execution_count": null,
   "metadata": {},
   "outputs": [],
   "source": []
  },
  {
   "cell_type": "code",
   "execution_count": null,
   "metadata": {},
   "outputs": [],
   "source": []
  }
 ],
 "metadata": {
  "kernelspec": {
   "display_name": "Python 3",
   "language": "python",
   "name": "python3"
  },
  "language_info": {
   "codemirror_mode": {
    "name": "ipython",
    "version": 3
   },
   "file_extension": ".py",
   "mimetype": "text/x-python",
   "name": "python",
   "nbconvert_exporter": "python",
   "pygments_lexer": "ipython3",
   "version": "3.7.3"
  }
 },
 "nbformat": 4,
 "nbformat_minor": 2
}
